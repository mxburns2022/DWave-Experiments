{
 "cells": [
  {
   "cell_type": "code",
   "execution_count": 9,
   "metadata": {},
   "outputs": [],
   "source": [
    "import dimod\n",
    "import hybrid\n",
    "from dwave.cloud import Client\n",
    "import os\n",
    "import networkx as nx\n",
    "from dwave.cloud.solver import BQMSolver\n",
    "import dwave.samplers as samplers"
   ]
  },
  {
   "cell_type": "code",
   "execution_count": 24,
   "metadata": {},
   "outputs": [],
   "source": [
    "def read_graph(filename):\n",
    "    def to_value(x):\n",
    "        try:\n",
    "            return int(x)\n",
    "        except ValueError:\n",
    "            return float(x)\n",
    "    with open(filename, 'r') as f:\n",
    "        line = f.readline()\n",
    "        n, m = [int(i) for i in line.strip().split()]\n",
    "        edges = []\n",
    "        for line in f:\n",
    "            u, v, w = map(to_value, line.strip().split())\n",
    "            edges.append((u, v, w))\n",
    "        g = nx.Graph()\n",
    "        g.add_weighted_edges_from(edges)\n",
    "    return g"
   ]
  },
  {
   "cell_type": "code",
   "execution_count": 31,
   "metadata": {},
   "outputs": [
    {
     "name": "stderr",
     "output_type": "stream",
     "text": [
      "/tmp/ipykernel_12864/1121939496.py:5: DeprecationWarning: BinaryQuadraticModel.from_networkx_graph() is deprecated since dimod 0.10.0 and will be removed in 0.12.0. Use dimod.from_networkx_graph(bqm) instead.\n",
      "  bqm = dimod.BQM.from_networkx_graph(graph, dimod.SPIN, edge_attribute_name='weight')\n"
     ]
    },
    {
     "data": {
      "text/plain": [
       "11624.0"
      ]
     },
     "execution_count": 31,
     "metadata": {},
     "output_type": "execute_result"
    }
   ],
   "source": [
    "cli = Client.from_config()\n",
    "# sampler = hybrid.\n",
    "graph = read_graph(os.environ.get('GSET')+'/set/G039')\n",
    "# sampler = BQMSolver(client=cli)\n",
    "bqm = dimod.BQM.from_networkx_graph(graph, dimod.SPIN, edge_attribute_name='weight')\n",
    "bqm.change_vartype(dimod.BINARY)\n",
    "bqm.offset = 0\n",
    "response = sampler.sample(bqm, num_sweeps=10000)\n",
    "-response.first.energy/2"
   ]
  },
  {
   "cell_type": "code",
   "execution_count": 4,
   "metadata": {},
   "outputs": [
    {
     "name": "stdout",
     "output_type": "stream",
     "text": [
      "Help on method get_solver in module dwave.cloud.client.base:\n",
      "\n",
      "get_solver(name=None, refresh=False, **filters) method of dwave.cloud.client.base.Client instance\n",
      "    Load the configuration for a single solver.\n",
      "    \n",
      "    Makes a blocking web call to `{endpoint}/solvers/remote/{solver_name}/`, where `{endpoint}`\n",
      "    is a URL configured for the client, and returns a :class:`.Solver` instance\n",
      "    that can be used to submit sampling problems to the D-Wave API and retrieve results.\n",
      "    \n",
      "    Args:\n",
      "        name (str):\n",
      "            ID of the requested solver. ``None`` returns the default solver.\n",
      "            If default solver is not configured, ``None`` returns the first available\n",
      "            solver in ``Client``'s class (QPU/software/base).\n",
      "    \n",
      "        **filters (keyword arguments, optional):\n",
      "            Dictionary of filters over features this solver has to have. For a list of\n",
      "            feature names and values, see: :meth:`~dwave.cloud.client.Client.get_solvers`.\n",
      "    \n",
      "        order_by (callable/str/None, default='avg_load'):\n",
      "            Solver sorting key function (or :class:`~dwave.cloud.solver.Solver`\n",
      "            attribute/item dot-separated path). By default, solvers are sorted by average\n",
      "            load. For details, see :meth:`~dwave.cloud.client.Client.get_solvers`.\n",
      "    \n",
      "        refresh (bool):\n",
      "            Return solver from cache (if cached with\n",
      "            :meth:`~dwave.cloud.client.Client.get_solvers`), unless set to\n",
      "            ``True``.\n",
      "    \n",
      "    Returns:\n",
      "        :class:`.Solver`\n",
      "    \n",
      "    Examples:\n",
      "        This example creates two solvers for a client instantiated from\n",
      "        a local system's auto-detected default configuration file, which configures\n",
      "        a connection to a D-Wave resource that provides two solvers. The first\n",
      "        uses the default solver, the second selects a hybrid CQM solver.\n",
      "    \n",
      "        >>> from dwave.cloud import Client\n",
      "        >>> client = Client.from_config()    # doctest: +SKIP\n",
      "        >>> client.get_solvers()   # doctest: +SKIP\n",
      "        BQMSolver(id='hybrid_binary_quadratic_model_version2p'),\n",
      "        DQMSolver(id='hybrid_discrete_quadratic_model_version1p'),\n",
      "        CQMSolver(id='hybrid_constrained_quadratic_model_version1p'),\n",
      "        StructuredSolver(id='Advantage_system6.1')]\n",
      "        >>> solver1 = client.get_solver()    # doctest: +SKIP\n",
      "        >>> solver2 = client.get_solver(supported_problem_types__issubset={'cqm'})    # doctest: +SKIP\n",
      "        >>> solver1.name  # doctest: +SKIP\n",
      "        'Advantage_system6.1'\n",
      "        >>> solver2.name   # doctest: +SKIP\n",
      "        'hybrid_constrained_quadratic_model_version1p'\n",
      "        >>> # code that uses client\n",
      "        >>> client.close() # doctest: +SKIP\n",
      "\n"
     ]
    }
   ],
   "source": []
  }
 ],
 "metadata": {
  "kernelspec": {
   "display_name": "Python 3",
   "language": "python",
   "name": "python3"
  },
  "language_info": {
   "codemirror_mode": {
    "name": "ipython",
    "version": 3
   },
   "file_extension": ".py",
   "mimetype": "text/x-python",
   "name": "python",
   "nbconvert_exporter": "python",
   "pygments_lexer": "ipython3",
   "version": "3.10.12"
  }
 },
 "nbformat": 4,
 "nbformat_minor": 2
}
